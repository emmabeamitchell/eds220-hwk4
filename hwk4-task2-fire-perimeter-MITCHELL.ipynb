{
 "cells": [
  {
   "cell_type": "markdown",
   "id": "836d3cd2-410b-4406-abfa-b5d48b21bba4",
   "metadata": {},
   "source": [
    "# Thomas Fire Perimeter\n",
    "\n",
    "## HWK 4: EDS 220\n",
    "\n",
    "Emma Bea Mitchell | November 22, 2024\n",
    "\n",
    "[Github repository link](https://github.com/emmabeamitchell/eds220-hwk4)"
   ]
  },
  {
   "cell_type": "markdown",
   "id": "1f375d76-bade-4cd5-8767-de29c05269c5",
   "metadata": {},
   "source": [
    "#### About this notebook:\n",
    "\n",
    "The purpose of this notebook is to explore California Fire data, finding initial information such as the CRS. We also specifically selected data from the Thomas Fire in 2017, and exported that as a shapefile. We will use this shapefile in the false-color notebook.\n",
    "\n",
    "The highlights of this notebook are the data exploration, particularly the `f-strings` that easily display important information about our data. The other important highlights are the selection of the Thomas Fire data out of the California fire data, and the exportation of that data. The most important part is the Thomas Fire selection.\n",
    "\n",
    "#### About the data:\n",
    "\n",
    "The `perimeters` data is a shapefile from [California Fires (all) from Data.gov](https://catalog.data.gov/dataset/california-fire-perimeters-all-b3436). \"The fire perimeter and prescribed fire feature services provide a reasonable view of the spatial distribution of past large fires but is in no way complete. Some fires are missing because historical records were lost or damaged, were too small for the minimum cutoffs, had inadequate documentation or have not yet been incorporated into the database\" (Data.gov).\n",
    "\n",
    "#### References:\n",
    "\n",
    "Data.gov Data Catalogue, California Fire Perimeters (all) [Data file] Available from: https://catalog.data.gov/dataset/california-fire-perimeters-all-b3436. Access date: November 22, 2024."
   ]
  },
  {
   "cell_type": "code",
   "execution_count": 1,
   "id": "def62617-b23e-4255-85a4-b995f0912a5b",
   "metadata": {
    "tags": []
   },
   "outputs": [],
   "source": [
    "# Load in libraries\n",
    "import os\n",
    "import geopandas as gpd"
   ]
  },
  {
   "cell_type": "code",
   "execution_count": 6,
   "id": "93c7f115-8685-4862-b0d5-ada8ba5b4fb2",
   "metadata": {},
   "outputs": [],
   "source": [
    "# Read in fire data\n",
    "path = fp = os.path.join(\"data\",\"California_Fire_Perimeters_(all).shp\")\n",
    "\n",
    "perimeters = gpd.read_file(path)"
   ]
  },
  {
   "cell_type": "markdown",
   "id": "c39a39ee-3250-4c94-bff4-b3373ea6e174",
   "metadata": {},
   "source": [
    "## Fire perimeter data retrieval and selection\n",
    "\n",
    "#### Explore the data"
   ]
  },
  {
   "cell_type": "code",
   "execution_count": 10,
   "id": "b55e6d79-3fab-48be-a076-0699db151187",
   "metadata": {
    "tags": []
   },
   "outputs": [
    {
     "name": "stdout",
     "output_type": "stream",
     "text": [
      "ellipsoid: WGS 84\n",
      "datum: World Geodetic System 1984 ensemble\n",
      "crs: EPSG:3857\n",
      "Is the CRS geographic?:   False\n",
      "Is the CRS projected?:    True\n"
     ]
    }
   ],
   "source": [
    "# Explore CRS\n",
    "print(f\"ellipsoid: {perimeters.crs.ellipsoid}\")\n",
    "print(f\"datum: {perimeters.crs.datum}\")\n",
    "print(f\"crs: {perimeters.crs}\")\n",
    "print(f\"{'Is the CRS geographic?:':<25} {perimeters.crs.is_geographic}\")\n",
    "print(f\"{'Is the CRS projected?:':<25} {perimeters.crs.is_projected}\")"
   ]
  },
  {
   "cell_type": "markdown",
   "id": "b9742fbb-b88e-4661-946c-831dfa6a6f71",
   "metadata": {},
   "source": [
    "Initial exploration showed that the crs was WGS 1984, and that the data was projected, not geographic. "
   ]
  },
  {
   "cell_type": "markdown",
   "id": "9ed5891f-e79b-4558-b324-a15fc33c4f45",
   "metadata": {},
   "source": [
    "#### Select for Thomas Fire"
   ]
  },
  {
   "cell_type": "code",
   "execution_count": 8,
   "id": "35d4d458-1a1d-448f-ad8a-e19a6ff0cff0",
   "metadata": {
    "tags": []
   },
   "outputs": [],
   "source": [
    "# Select for only the Thomas Fire 2017\n",
    "thomas_fire = perimeters.loc[(perimeters['FIRE_NAME'] == \"THOMAS\") &\n",
    "                                 (perimeters['YEAR_'] == 2017)]"
   ]
  },
  {
   "cell_type": "markdown",
   "id": "94eab9a8-6e4f-4032-ab7e-0c80ec4508f1",
   "metadata": {},
   "source": [
    "#### Export Data"
   ]
  },
  {
   "cell_type": "code",
   "execution_count": 9,
   "id": "ae8fd2a5-a5ce-4ca6-bc04-0d7fdf2a0fd8",
   "metadata": {
    "tags": []
   },
   "outputs": [],
   "source": [
    "# Create a GeoDataFrame \n",
    "gdf = gpd.GeoDataFrame(thomas_fire, crs=\"EPSG:3857\")\n",
    "\n",
    "# Define the path for the output shapefile \n",
    "output_path = \"data/thomas_fire.shp\"\n",
    "\n",
    "# Export to a shapefile \n",
    "gdf.to_file(output_path)"
   ]
  },
  {
   "cell_type": "markdown",
   "id": "33a238b0-eb25-4482-b67f-dd9263cefd84",
   "metadata": {},
   "source": [
    "I chose to use a `shapefile` because I wanted to keep my `thomas_fire` data consistent with the California fire data we had already read in. I also used `shapefile` because we have used it more than a `geojson`, so I felt more comfortable and familiar using it. "
   ]
  }
 ],
 "metadata": {
  "kernelspec": {
   "display_name": "Anaconda 3 (EDS220)",
   "language": "python",
   "name": "eds220-env"
  },
  "language_info": {
   "codemirror_mode": {
    "name": "ipython",
    "version": 3
   },
   "file_extension": ".py",
   "mimetype": "text/x-python",
   "name": "python",
   "nbconvert_exporter": "python",
   "pygments_lexer": "ipython3",
   "version": "3.11.4"
  }
 },
 "nbformat": 4,
 "nbformat_minor": 5
}
